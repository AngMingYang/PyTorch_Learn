{
 "cells": [
  {
   "cell_type": "code",
   "execution_count": 2,
   "id": "2f0a6088",
   "metadata": {},
   "outputs": [
    {
     "ename": "ModuleNotFoundError",
     "evalue": "No module named 'torch'",
     "output_type": "error",
     "traceback": [
      "\u001b[1;31m---------------------------------------------------------------------------\u001b[0m",
      "\u001b[1;31mModuleNotFoundError\u001b[0m                       Traceback (most recent call last)",
      "Cell \u001b[1;32mIn[2], line 1\u001b[0m\n\u001b[1;32m----> 1\u001b[0m \u001b[38;5;28;01mimport\u001b[39;00m\u001b[38;5;250m \u001b[39m\u001b[38;5;21;01mtorch\u001b[39;00m\n\u001b[0;32m      2\u001b[0m \u001b[38;5;28;01mimport\u001b[39;00m\u001b[38;5;250m \u001b[39m\u001b[38;5;21;01mnumpy\u001b[39;00m\u001b[38;5;250m \u001b[39m\u001b[38;5;28;01mas\u001b[39;00m\u001b[38;5;250m \u001b[39m\u001b[38;5;21;01mnp\u001b[39;00m\n\u001b[0;32m      4\u001b[0m \u001b[38;5;28;01mif\u001b[39;00m torch\u001b[38;5;241m.\u001b[39mcuda\u001b[38;5;241m.\u001b[39mis_available():\n",
      "\u001b[1;31mModuleNotFoundError\u001b[0m: No module named 'torch'"
     ]
    }
   ],
   "source": [
    "import torch\n",
    "import numpy as np\n",
    "\n",
    "if torch.cuda.is_available():\n",
    "    device = torch.device(\"cuda\")\n",
    "else:\n",
    "    device = torch.device(\"cpu\")\n",
    "\n",
    "# Create a tensor\n",
    "x = torch.tensor([3.0], requires_grad=True).to(device) #requires_grad=True cause the differentiation\n",
    "numpy_array = np.array([1,2,3,4,5], dtype=np.float32) #numpy array\n",
    "y = torch.tensor(numpy_array, requires_grad=True).to(device) #requires_grad=True means this will be used in  .backward pass and training.\n",
    "\n",
    "\n",
    "# Multiply with another Tensor\n",
    "result = x * 2 * y\n",
    "\n",
    "# Obtain the gradient\n",
    "result.sum().backward() #if never called backward, the gradient will be None\n",
    "print(x.grad)\n",
    "print(y.grad)\n",
    "\n",
    "\n",
    "with torch.no_grad():  # At this point, any operations within this block are not part of the computational graph.\n",
    "    a = x * 2\n",
    "    print(a.requires_grad)  # False\n",
    "    b = a * y\n",
    "    print(b.requires_grad)  # False"
   ]
  },
  {
   "cell_type": "code",
   "execution_count": 5,
   "id": "e1425bbd",
   "metadata": {},
   "outputs": [
    {
     "ename": "ModuleNotFoundError",
     "evalue": "No module named 'torch'",
     "output_type": "error",
     "traceback": [
      "\u001b[1;31m---------------------------------------------------------------------------\u001b[0m",
      "\u001b[1;31mModuleNotFoundError\u001b[0m                       Traceback (most recent call last)",
      "Cell \u001b[1;32mIn[5], line 1\u001b[0m\n\u001b[1;32m----> 1\u001b[0m \u001b[38;5;28;01mimport\u001b[39;00m\u001b[38;5;250m \u001b[39m\u001b[38;5;21;01mtorch\u001b[39;00m\n\u001b[0;32m      2\u001b[0m \u001b[38;5;28;01mimport\u001b[39;00m\u001b[38;5;250m \u001b[39m\u001b[38;5;21;01mnumpy\u001b[39;00m\u001b[38;5;250m \u001b[39m\u001b[38;5;28;01mas\u001b[39;00m\u001b[38;5;250m \u001b[39m\u001b[38;5;21;01mnp\u001b[39;00m\n\u001b[0;32m      3\u001b[0m \u001b[38;5;28;01mimport\u001b[39;00m\u001b[38;5;250m \u001b[39m\u001b[38;5;21;01mtime\u001b[39;00m\n",
      "\u001b[1;31mModuleNotFoundError\u001b[0m: No module named 'torch'"
     ]
    }
   ],
   "source": [
    "import torch\n",
    "import numpy as np\n",
    "import time\n",
    "\n",
    "def run_operation(device):\n",
    "    x = torch.tensor([3.0], requires_grad=True).to(device)\n",
    "    numpy_array = np.array([1,2,3,4,5], dtype=np.float32)\n",
    "    y = torch.tensor(numpy_array, requires_grad=True).to(device)\n",
    "\n",
    "    # Synchronize for accurate GPU timing\n",
    "    if device.type == 'cuda':\n",
    "        torch.cuda.synchronize()\n",
    "\n",
    "    start = time.time()\n",
    "\n",
    "    result = x * 2 * y\n",
    "    result.sum().backward()\n",
    "\n",
    "    # Synchronize again after operation for GPU timing\n",
    "    if device.type == 'cuda':\n",
    "        torch.cuda.synchronize()\n",
    "\n",
    "    end = time.time()\n",
    "\n",
    "    return end - start, x.grad.cpu(), y.grad.cpu()  # return gradients on CPU for printing\n"
   ]
  },
  {
   "cell_type": "code",
   "execution_count": 3,
   "id": "3e232e99",
   "metadata": {},
   "outputs": [
    {
     "ename": "NameError",
     "evalue": "name 'run_operation' is not defined",
     "output_type": "error",
     "traceback": [
      "\u001b[1;31m---------------------------------------------------------------------------\u001b[0m",
      "\u001b[1;31mNameError\u001b[0m                                 Traceback (most recent call last)",
      "Cell \u001b[1;32mIn[3], line 1\u001b[0m\n\u001b[1;32m----> 1\u001b[0m cpu_time, x_grad_cpu, y_grad_cpu \u001b[38;5;241m=\u001b[39m \u001b[43mrun_operation\u001b[49m(torch\u001b[38;5;241m.\u001b[39mdevice(\u001b[38;5;124m'\u001b[39m\u001b[38;5;124mcpu\u001b[39m\u001b[38;5;124m'\u001b[39m))\n\u001b[0;32m      2\u001b[0m \u001b[38;5;28mprint\u001b[39m(\u001b[38;5;124mf\u001b[39m\u001b[38;5;124m\"\u001b[39m\u001b[38;5;124mCPU time: \u001b[39m\u001b[38;5;132;01m{\u001b[39;00mcpu_time\u001b[38;5;132;01m:\u001b[39;00m\u001b[38;5;124m.6f\u001b[39m\u001b[38;5;132;01m}\u001b[39;00m\u001b[38;5;124m seconds\u001b[39m\u001b[38;5;124m\"\u001b[39m)\n\u001b[0;32m      3\u001b[0m \u001b[38;5;28mprint\u001b[39m(\u001b[38;5;124m\"\u001b[39m\u001b[38;5;124mCPU gradients:\u001b[39m\u001b[38;5;124m\"\u001b[39m)\n",
      "\u001b[1;31mNameError\u001b[0m: name 'run_operation' is not defined"
     ]
    }
   ],
   "source": [
    "cpu_time, x_grad_cpu, y_grad_cpu = run_operation(torch.device('cpu'))\n",
    "print(f\"CPU time: {cpu_time:.6f} seconds\")\n",
    "print(\"CPU gradients:\")\n",
    "print(x_grad_cpu)\n",
    "print(y_grad_cpu)\n",
    "\n",
    "if torch.cuda.is_available():\n",
    "    gpu_time, x_grad_gpu, y_grad_gpu = run_operation(torch.device('cuda'))\n",
    "    print(f\"GPU time: {gpu_time:.6f} seconds\")\n",
    "    print(\"GPU gradients:\")\n",
    "    print(x_grad_gpu)\n",
    "    print(y_grad_gpu)\n",
    "else:\n",
    "    print(\"GPU not available.\")\n"
   ]
  },
  {
   "cell_type": "code",
   "execution_count": null,
   "id": "e1302d9a",
   "metadata": {},
   "outputs": [],
   "source": []
  }
 ],
 "metadata": {
  "kernelspec": {
   "display_name": "Python 3",
   "language": "python",
   "name": "python3"
  },
  "language_info": {
   "codemirror_mode": {
    "name": "ipython",
    "version": 3
   },
   "file_extension": ".py",
   "mimetype": "text/x-python",
   "name": "python",
   "nbconvert_exporter": "python",
   "pygments_lexer": "ipython3",
   "version": "3.8.10"
  }
 },
 "nbformat": 4,
 "nbformat_minor": 5
}
